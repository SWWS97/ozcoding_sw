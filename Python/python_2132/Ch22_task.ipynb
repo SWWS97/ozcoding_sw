{
 "cells": [
  {
   "cell_type": "markdown",
   "metadata": {},
   "source": [
    "여러 숫자를 입력받아 그 합계를 반환하는 함수 sum_numbers를 작성하세요. 이 때, 가변 매개변수를 사용하세요."
   ]
  },
  {
   "cell_type": "code",
   "execution_count": null,
   "metadata": {},
   "outputs": [
    {
     "name": "stdout",
     "output_type": "stream",
     "text": [
      "[1, 2, 3, 4, 5]\n",
      "15\n"
     ]
    }
   ],
   "source": [
    "def sum_numbers(*a):                      # 밑에서 받아온 변수를 함수 안에서 *a로 다시 언패킹,다시 리스트화 시켜서 sum()에 변수값이 들어감 \n",
    "    return sum(a)     # sum()으로 변수값을 더해서 반환         # ( sum()은 리스트,튜플,딕셔너리에 사용 가능한 함수기 때문 )  \n",
    "\n",
    "a = list(map(int, input().split(',')))    # map()함수를 활용 a라는 변수에 담아줌, map()함수는 리스트나 튜플 같은 데이터가 만들어지는게 아니라\n",
    "                                            # 데이터를 필요할 때 꺼낼 수 있는 특벽한형태(이터레이터)로 저장됨\n",
    "                                            # 그렇기에 list()를 이용 리스트화 시켜 출력 해야함\n",
    "print(a)    \n",
    "print(sum_numbers(*a))                      # sum_numbers 변수를 호출, a변수앞에 * 적어서 패킹시켜줌  "
   ]
  }
 ],
 "metadata": {
  "kernelspec": {
   "display_name": "Python 3",
   "language": "python",
   "name": "python3"
  },
  "language_info": {
   "codemirror_mode": {
    "name": "ipython",
    "version": 3
   },
   "file_extension": ".py",
   "mimetype": "text/x-python",
   "name": "python",
   "nbconvert_exporter": "python",
   "pygments_lexer": "ipython3",
   "version": "3.13.1"
  }
 },
 "nbformat": 4,
 "nbformat_minor": 2
}
