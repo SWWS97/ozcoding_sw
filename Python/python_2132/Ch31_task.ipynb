{
 "cells": [
  {
   "cell_type": "markdown",
   "metadata": {},
   "source": [
    "문자열 리스트를 받아, 각 문자열의 길이를 출력하는 함수 print_lengths를 작성하세요."
   ]
  },
  {
   "cell_type": "code",
   "execution_count": 20,
   "metadata": {},
   "outputs": [
    {
     "name": "stdout",
     "output_type": "stream",
     "text": [
      "첫번째 문자열의 길이는 5 이고, 두번째 문자열의 길이는 3 이다.\n"
     ]
    }
   ],
   "source": [
    "def print_lengths(a,b):                        \n",
    "    return len(a),len(b)                      # 문자열 리스트 변수 a,b의 문자열 길이를 각각 구해줌\n",
    "\n",
    "a = list(input('첫번째 문자열을 입력해주세요.'))     # 사용자의 입력한 문자열 리스트를 리스트화 시켜서 변수 a에 할당  \n",
    "b = list(input('두번째 문자열을 입력해주세요.'))     # 사용자의 입력한 문자열 리스트를 리스트화 시켜서 변수 b에 할당\n",
    "\n",
    "len_a, len_b = print_lengths(a, b)            # 반환된 값을 각각 변수에 저장\n",
    "\n",
    "print(f'첫번째 문자열의 길이는 {len_a} 이고, 두번째 문자열의 길이는 {len_b} 이다.')# f-string사용, {}에 각 변수 대입 출력"
   ]
  }
 ],
 "metadata": {
  "kernelspec": {
   "display_name": "Python 3",
   "language": "python",
   "name": "python3"
  },
  "language_info": {
   "codemirror_mode": {
    "name": "ipython",
    "version": 3
   },
   "file_extension": ".py",
   "mimetype": "text/x-python",
   "name": "python",
   "nbconvert_exporter": "python",
   "pygments_lexer": "ipython3",
   "version": "3.13.1"
  }
 },
 "nbformat": 4,
 "nbformat_minor": 2
}
