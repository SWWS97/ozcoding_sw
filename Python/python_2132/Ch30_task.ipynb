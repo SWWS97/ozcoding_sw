{
 "cells": [
  {
   "cell_type": "markdown",
   "metadata": {},
   "source": [
    "팩토리얼을 계산하는 재귀 함수 factorial을 작성하세요."
   ]
  },
  {
   "cell_type": "code",
   "execution_count": 9,
   "metadata": {},
   "outputs": [
    {
     "name": "stdout",
     "output_type": "stream",
     "text": [
      "팩토리얼의 수 5의 결과는 120입니다.\n"
     ]
    }
   ],
   "source": [
    "# 재귀 함수는 자기 자신을 호출하면서 쌓여(Stack)있다가, 가장 마지막에 호출된 함수부터 되돌아오면서(return) 결과를 계산한다.\n",
    "# 그래서 역순으로 계산하는 것처럼 보인다, 역순이라기보단 함수가 쌓여있다가 풀리는 순서라고 보면된다.\n",
    "\n",
    "def factorial(n):       \n",
    "    if n == 0:                                   \n",
    "        return 1                                # 종료 조건 BaseCase factorial(0)일 경우 1을 반환함\n",
    "    else:                                       # 그렇기에 factorial(n-1)이 1 - 1 = 0 이지만 1 이 된다.\n",
    "        return n * factorial(n-1)               # n이 점점 줄어들면서 스스로를 호출 실행\n",
    "    \n",
    "n = int(input('팩토리얼의 수를 입력해주세요: '))       # 변수 n에 사용자의 입력값을 할당\n",
    "\n",
    "print(f'팩토리얼의 수 {n}의 결과는 {factorial(n)}입니다.')  # f-string 사용, 출력"
   ]
  }
 ],
 "metadata": {
  "kernelspec": {
   "display_name": "Python 3",
   "language": "python",
   "name": "python3"
  },
  "language_info": {
   "codemirror_mode": {
    "name": "ipython",
    "version": 3
   },
   "file_extension": ".py",
   "mimetype": "text/x-python",
   "name": "python",
   "nbconvert_exporter": "python",
   "pygments_lexer": "ipython3",
   "version": "3.13.1"
  }
 },
 "nbformat": 4,
 "nbformat_minor": 2
}
