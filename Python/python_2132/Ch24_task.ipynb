{
 "cells": [
  {
   "cell_type": "markdown",
   "metadata": {},
   "source": [
    "사용자의 이름, 나이, 성별을 출력하는 함수 print_info를 작성하세요. 이 때, 모든 매개변수는 키워드 매개변수로만 받도록 하세요."
   ]
  },
  {
   "cell_type": "code",
   "execution_count": 1,
   "metadata": {},
   "outputs": [
    {
     "name": "stdout",
     "output_type": "stream",
     "text": [
      "저는 승우이고 나이는29, 남자입니다.\n"
     ]
    }
   ],
   "source": [
    "def print_info(이름,나이,성별):\n",
    "    print(f'저는 {이름}이고 나이는{나이}, {성별}입니다.')   # f스트링으로 출력\n",
    "\n",
    "\n",
    "\n",
    "print_info(이름= \"승우\", 나이= 29, 성별= \"남자\")        # 함수를 호출하고 ()안에 키워드 매개변수를 적어 함수에 할당해준다.\n"
   ]
  }
 ],
 "metadata": {
  "kernelspec": {
   "display_name": "Python 3",
   "language": "python",
   "name": "python3"
  },
  "language_info": {
   "codemirror_mode": {
    "name": "ipython",
    "version": 3
   },
   "file_extension": ".py",
   "mimetype": "text/x-python",
   "name": "python",
   "nbconvert_exporter": "python",
   "pygments_lexer": "ipython3",
   "version": "3.13.1"
  }
 },
 "nbformat": 4,
 "nbformat_minor": 2
}
