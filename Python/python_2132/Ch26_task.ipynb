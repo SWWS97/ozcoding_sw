{
 "cells": [
  {
   "cell_type": "markdown",
   "metadata": {},
   "source": [
    "0부터 시작하여 n까지의 숫자 중에서 홀수만 생성하는 제너레이터 odd_numbers를 작성하세요."
   ]
  },
  {
   "cell_type": "code",
   "execution_count": 36,
   "metadata": {},
   "outputs": [
    {
     "name": "stdout",
     "output_type": "stream",
     "text": [
      "[1, 3, 5, 7, 9]\n"
     ]
    }
   ],
   "source": [
    "def odd_numbers(n):      \n",
    "    for i in range(0,n):             # 반복문으로 range()함수에 0부터 변수n까지 숫자를 생성 \n",
    "        if i % 2 == 1:               # 생성한 숫자를 if 조건문으로 2로 나눠서 나머지가 1인지 확인(나머지가 1이면 홀수기 떄문) \n",
    "            yield i                  # yield라는 키워드로 제네레이터로 만들고 홀수일때 반환\n",
    "            \n",
    "n = int(input(\"숫자를 입력하세요.\"))     # 변수 n에 정수 입력값을 할당\n",
    "\n",
    "print(list(odd_numbers(n)))          # 함수호출 및 제네레이터로 생성된 홀수를 리스트화 시켜 출력\n"
   ]
  },
  {
   "cell_type": "markdown",
   "metadata": {},
   "source": []
  }
 ],
 "metadata": {
  "kernelspec": {
   "display_name": "Python 3",
   "language": "python",
   "name": "python3"
  },
  "language_info": {
   "codemirror_mode": {
    "name": "ipython",
    "version": 3
   },
   "file_extension": ".py",
   "mimetype": "text/x-python",
   "name": "python",
   "nbconvert_exporter": "python",
   "pygments_lexer": "ipython3",
   "version": "3.13.1"
  }
 },
 "nbformat": 4,
 "nbformat_minor": 2
}
