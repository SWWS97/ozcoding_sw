{
 "cells": [
  {
   "cell_type": "markdown",
   "metadata": {},
   "source": [
    "주어진 숫자가 짝수인지 확인하는 함수 is_even을 작성하세요. 짝수라면 True를, 아니라면 False를 반환하세요. 함수 내에서 조기 리턴을 활용하세요."
   ]
  },
  {
   "cell_type": "code",
   "execution_count": 3,
   "metadata": {},
   "outputs": [
    {
     "data": {
      "text/plain": [
       "True"
      ]
     },
     "execution_count": 3,
     "metadata": {},
     "output_type": "execute_result"
    }
   ],
   "source": [
    "# def is_even(a):                   \n",
    "#    if a % 2 == 0:                    # if 조건문 a변수를 2로 나눴을때 나머지가 0일때(짝수인지 판별)\n",
    "#        return True                   # True를 return 반환 \n",
    "#    else:                             # 위 조건에 안맞을 경우\n",
    "#        return False                  # False를 반환\n",
    "\n",
    "# 사용자 입력값 받기\n",
    "# a = int(input('숫자를 입력하세요: '))     # 사용자의 입력값을 변수 a에 할당\n",
    "\n",
    "# 함수 호출\n",
    "# is_even(a)\n",
    "\n",
    "# is_even = lambda a: a % 2 == 0  # 짝수면 True, 아니면 False 반환 \n",
    "\n",
    "# 사용자 입력 받기\n",
    "# a = int(input('숫자를 입력하세요: '))\n",
    "\n",
    "# 결과 출력\n",
    "# print(is_even(a))\n",
    "\n",
    "\n",
    "def is_even(a):                    # 짝수면 True, 홀수면 False를 반환하는 조기 리턴 함수\n",
    "    return a % 2 == 0              # a % 2 == 0 자체가 True,False를 반환하기 때문에 if,else를 생략한다.\n",
    "\n",
    "a = int(input('숫자를 입력하세요: '))   # 변수 a에 사용자의 입력값을 할당 \n",
    "\n",
    "is_even(a)                         # 함수 호출\n"
   ]
  }
 ],
 "metadata": {
  "kernelspec": {
   "display_name": "Python 3",
   "language": "python",
   "name": "python3"
  },
  "language_info": {
   "codemirror_mode": {
    "name": "ipython",
    "version": 3
   },
   "file_extension": ".py",
   "mimetype": "text/x-python",
   "name": "python",
   "nbconvert_exporter": "python",
   "pygments_lexer": "ipython3",
   "version": "3.13.1"
  }
 },
 "nbformat": 4,
 "nbformat_minor": 2
}
