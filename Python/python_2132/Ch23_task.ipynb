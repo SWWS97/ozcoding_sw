{
 "cells": [
  {
   "cell_type": "markdown",
   "metadata": {},
   "source": [
    "사용자의 이름을 출력하는 함수 print_name을 작성하세요. 만약 이름이 주어지지 않았다면, 기본값으로 \"익명\"을 사용하세요."
   ]
  },
  {
   "cell_type": "code",
   "execution_count": 115,
   "metadata": {},
   "outputs": [
    {
     "name": "stdout",
     "output_type": "stream",
     "text": [
      "승우\n"
     ]
    }
   ],
   "source": [
    "def print_name(name):                       \n",
    "\n",
    "    if name:\n",
    "        if name.isdigit():              # .isdigit() 메서드로 name에 들어온 입력값이 숫자인지 판별, 숫자면 아래 \"문자를 입력해주세요\" 출력 \n",
    "            print(\"문자를 입력해주세요.\")\n",
    "\n",
    "        elif name.isalnum():            # .isalnum() 메서드로 name에 들어온 입력값이 문자인지 판별, 문자면 변수 name을 출력\n",
    "            print(name)\n",
    "\n",
    "    else:                               # 둘다 아닐 경우 \"익명\"을 출력한다.\n",
    "        print(\"익명\")\n",
    "        \n",
    "\n",
    "\n",
    "name = input(\"사용자의 이름을 입력해주세요.\")       # name 이라는 변수에 사용자의 입력값을 받아 할당\n",
    "\n",
    "print_name(name)                            # 함수호출"
   ]
  }
 ],
 "metadata": {
  "kernelspec": {
   "display_name": "Python 3",
   "language": "python",
   "name": "python3"
  },
  "language_info": {
   "codemirror_mode": {
    "name": "ipython",
    "version": 3
   },
   "file_extension": ".py",
   "mimetype": "text/x-python",
   "name": "python",
   "nbconvert_exporter": "python",
   "pygments_lexer": "ipython3",
   "version": "3.13.1"
  }
 },
 "nbformat": 4,
 "nbformat_minor": 2
}
