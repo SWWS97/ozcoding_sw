{
 "cells": [
  {
   "cell_type": "markdown",
   "metadata": {},
   "source": [
    "두 문자열을 받아서 긴 문자열을 반환하는 함수 longer_string을 작성하세요. 만약 두 문자열의 길이가 같다면, 첫 번째 문자열을 반환하세요."
   ]
  },
  {
   "cell_type": "code",
   "execution_count": 17,
   "metadata": {},
   "outputs": [
    {
     "name": "stdout",
     "output_type": "stream",
     "text": [
      "긴 문자열은 안녕하세요 입니다.\n"
     ]
    }
   ],
   "source": [
    "def longer_string(a,b):                 \n",
    "    if len(a) > len(b):                         # 변수a와 변수b의 길이를 비교해서 a가 더 길면 a문자열 반환 \n",
    "        return a\n",
    "    elif len(a) < len(b):                       # 또는 b가 더길면 b의 문자열을 반환\n",
    "        return b\n",
    "    else:                                       # 둘다 아닐경우 (= 둘의 길이가 같다면) a문자열을 반환 해준다.\n",
    "        return a\n",
    "    \n",
    "a,b = map(str,input(\"첫번째,두번째 문자열을 입력해주세요.\").split(','))# map()함수 활용 문자열을 입력 받아 변수a,b에 할당\n",
    "\n",
    "print(f'긴 문자열은 {longer_string(a,b)} 입니다.')   # f-string을 사용하여 출력"
   ]
  }
 ],
 "metadata": {
  "kernelspec": {
   "display_name": "Python 3",
   "language": "python",
   "name": "python3"
  },
  "language_info": {
   "codemirror_mode": {
    "name": "ipython",
    "version": 3
   },
   "file_extension": ".py",
   "mimetype": "text/x-python",
   "name": "python",
   "nbconvert_exporter": "python",
   "pygments_lexer": "ipython3",
   "version": "3.13.1"
  }
 },
 "nbformat": 4,
 "nbformat_minor": 2
}
