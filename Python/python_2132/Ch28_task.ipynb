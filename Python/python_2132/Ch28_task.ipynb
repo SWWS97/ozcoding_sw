{
 "cells": [
  {
   "cell_type": "markdown",
   "metadata": {},
   "source": [
    "사용자로부터 3개의 숫자를 입력받아, 이를 튜플로 만든 후 최소값과 최대값을 출력하는 함수 min_max를 작성하세요."
   ]
  },
  {
   "cell_type": "code",
   "execution_count": 6,
   "metadata": {},
   "outputs": [
    {
     "name": "stdout",
     "output_type": "stream",
     "text": [
      "최소값: 1, 최대값: 3\n"
     ]
    }
   ],
   "source": [
    "def min_max(a,b,c):                \n",
    "    min_value = min(a,b,c)       # min()함수로 a,b,c 변수 값의 최솟값을 구하고 min_value 변수에 할당 1\n",
    "    max_value = max(a,b,c)       # max()함수로 a,b,c 변수 값의 최댓값을 구하고 max_value 변수에 할당 3\n",
    "    return min_value, max_value  # 함수에선 반환할때 ()을 안해도 자동으로 튜플로 반환이 된다. (1, 3)\n",
    "\n",
    "a,b,c = map(int,input('숫자를 3개 입력하세요').split(',')) # 변수 a,b,c에 사용자가 3개의 숫자를 입력 할당 \n",
    "\n",
    "# result = min_max(a,b,c)               # 함수 내부 코드 실행 후 반환된 값을 result 변수에 할당 \n",
    "min_val, max_val = min_max(a,b,c)       # 함수 호출 및 함수 내부 코드 실행후 return으로 반환된 값을 변수에 각각 저장\n",
    "\n",
    "# print(f'최소값: {result[0]}, 최대값: {result[1]}') # result 변수(1, 3) 값의 인덱스 위치를 출력\n",
    "print(f'최소값: {min_val}, 최대값: {max_val}')       # f-string 사용, 함수 반환값을 할당한 변수값을 {}에 넣어서 출력"
   ]
  }
 ],
 "metadata": {
  "kernelspec": {
   "display_name": "Python 3",
   "language": "python",
   "name": "python3"
  },
  "language_info": {
   "codemirror_mode": {
    "name": "ipython",
    "version": 3
   },
   "file_extension": ".py",
   "mimetype": "text/x-python",
   "name": "python",
   "nbconvert_exporter": "python",
   "pygments_lexer": "ipython3",
   "version": "3.13.1"
  }
 },
 "nbformat": 4,
 "nbformat_minor": 2
}
